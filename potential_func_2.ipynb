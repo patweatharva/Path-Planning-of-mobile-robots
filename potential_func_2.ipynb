{
 "cells": [
  {
   "cell_type": "code",
   "execution_count": null,
   "metadata": {},
   "outputs": [],
   "source": [
    "import numpy as np\n",
    "import math\n",
    "import matplotlib.pyplot as plt\n",
    "from matplotlib import cm\n",
    "from mpl_toolkits.mplot3d import Axes3D\n"
   ]
  },
  {
   "cell_type": "code",
   "execution_count": null,
   "metadata": {},
   "outputs": [],
   "source": [
    "def distance(q1,q2):\n",
    "    return(round(np.linalg.norm(q2-q1),2))"
   ]
  },
  {
   "cell_type": "code",
   "execution_count": null,
   "metadata": {},
   "outputs": [],
   "source": [
    "def u_att(zeta,d_star,q,q0):\n",
    "    d=distance(q,q0)\n",
    "    if (d<=d_star):\n",
    "        return(((zeta * (d**2) * 1/2)))\n",
    "    else:\n",
    "        return(((d_star * zeta * d)- (1/2 * zeta * (d_star)**2)))\n",
    "\n",
    "def att_grad(zeta,d_star,q,q0):\n",
    "    d=distance(q,q0)\n",
    "    if (d<=d_star):\n",
    "        return((zeta * (q-q0) ))\n",
    "    else:\n",
    "        return((d_star * zeta * (q-q0)/d))"
   ]
  },
  {
   "cell_type": "code",
   "execution_count": null,
   "metadata": {},
   "outputs": [],
   "source": [
    "def u_rep(n,q_star,q,oq):\n",
    "    r= []\n",
    "    for array in (oq.T):\n",
    "        array=array.reshape(2,1)\n",
    "        d= distance(q,array)\n",
    "        if d<=q_star:\n",
    "            r.append((0.5 * n * ((1/d)-(1/q_star))**2))\n",
    "        else:\n",
    "            r.append(0)\n",
    "    return(sum(r))\n",
    "\n",
    "\n",
    "    \n",
    "def rep_grad(n,q_star,q,oq):\n",
    "    r=np.zeros((2,1))\n",
    "    for array in (oq.T):\n",
    "        array=array.reshape(2,1)\n",
    "        d= distance(q,array)\n",
    "        if d<=q_star:\n",
    "            r=np.append(r,(n* ((1/q_star)-(1/d))* ((q-(array))/(d**3))),axis=1)\n",
    "        else:\n",
    "            r=np.append(r,np.zeros((2,1)),axis= 1)\n",
    "\n",
    "    return(np.sum(r,axis=1).reshape(2,1))\n",
    "\n"
   ]
  },
  {
   "cell_type": "code",
   "execution_count": null,
   "metadata": {},
   "outputs": [],
   "source": [
    "def GradientDescent(q,oq,q0,alpha,max_iter,n,q_star,zeta,d_star,U_star):\n",
    "    success=False\n",
    "    U = u_rep(n,q_star,q,oq) + u_att(zeta,d_star,q,q0)\n",
    "    U_hist=[U]\n",
    "    q_hist= q\n",
    "    for i in range(max_iter):\n",
    "        \n",
    "        if U > U_star:\n",
    "            grad_total= rep_grad(n,q_star,q,oq) + att_grad(zeta,d_star,q,q0)\n",
    "            q = q - alpha * (grad_total/np.linalg.norm(grad_total))\n",
    "            U =  u_rep(n,q_star,q,oq) + u_att(zeta,d_star,q,q0)\n",
    "            q_hist= np.hstack((q_hist,q))\n",
    "            U_hist.append(U)\n",
    "            if i % 25 == 0:\n",
    "                print(f\"Potential after {i} iterations is \"+str(U))\n",
    "                # print(q)\n",
    "        else:\n",
    "            print(\"Algorithm converged successfully and Robot has reached goal location\")\n",
    "            break\n",
    "        if (i == max_iter-1):\n",
    "            print(\"Robot is either at local minima or loop ran out of maximum  iterations\")\n",
    "            \n",
    "    return(q_hist,U_hist)"
   ]
  },
  {
   "cell_type": "code",
   "execution_count": null,
   "metadata": {},
   "outputs": [],
   "source": [
    "q=np.array(([0,0])).reshape(2,1)\n",
    "q0=np.array([10,15]).reshape(2,1)\n",
    "oq= np.array([[2.5,3],[4,6],[5,9],[7,11],[5,12],[5,11],[6,10],[2.5,5],[3,8]]).T\n",
    "max_iter=1500\n",
    "alpha=0.1\n",
    "n=1\n",
    "zeta= 1\n",
    "U_star=0.1\n",
    "q_star=3\n",
    "d_star=1\n",
    "q_hist, U_hist= GradientDescent(q,oq,q0,alpha,max_iter,n,q_star,zeta,d_star,U_star)\n"
   ]
  },
  {
   "cell_type": "code",
   "execution_count": null,
   "metadata": {},
   "outputs": [],
   "source": [
    "fig1=plt.figure()\n",
    "X= np.arange(1,len(U_hist)+1)\n",
    "plt.plot(X,U_hist,color=\"blue\")\n",
    "plt.title(\"Potential Function Value vs Iterations\")\n",
    "plt.xlabel(\"Iterations\")\n",
    "plt.ylabel(\"Potential value\")\n",
    "plt.grid()\n",
    "plt.show(fig1)"
   ]
  },
  {
   "cell_type": "code",
   "execution_count": null,
   "metadata": {},
   "outputs": [],
   "source": [
    "%matplotlib widget\n",
    "fig2 = plt.figure()\n",
    "ax = Axes3D(fig2)\n",
    "\n",
    "x= np.arange(0,max(q0)+5,alpha)\n",
    "y= np.arange(0,max(q0)+5,alpha)\n",
    "Z1 = np.empty((len(x),len(y)))\n",
    "for j in range(len(y)):\n",
    "    for i in range(len(x)):\n",
    "        Z1[i,j]=u_rep(n,q_star,np.array([x[i],y[j]]).reshape(2,1),oq) + u_att(zeta,d_star,np.array([x[i],y[j]]).reshape(2,1),q0)\n",
    "\n",
    "X1,Y1= np.meshgrid(x,y)\n",
    "\n",
    "plot_potential = ax.plot_surface(X1, Y1, Z1,rstride=1, cstride=1,cmap='viridis', edgecolor='none')\n",
    "ax.set_title(\"3D plot for potential value\")\n",
    "ax.set_xlabel('x-Coordinate')\n",
    "ax.set_ylabel('y-Coordinate')\n",
    "ax.set_zlabel('Potential')\n",
    "plt.show(fig2)\n",
    "\n"
   ]
  },
  {
   "cell_type": "code",
   "execution_count": null,
   "metadata": {},
   "outputs": [],
   "source": [
    "fig3, axes = plt.subplots()\n",
    "for ob in (oq.T):\n",
    "    ob=ob.reshape(1,2)\n",
    "    plt.plot(ob[0,0],ob[0,1],marker=\"o\")\n",
    "    circle= plt.Circle((ob[0,0],ob[0,1]),1,fill=False)\n",
    "    axes.set_aspect(1)\n",
    "    axes.add_artist(circle)\n",
    "\n",
    "\n",
    "for point in (q_hist.T):\n",
    "    point=point.reshape(1,2)\n",
    "    plt.plot(point[0,0],point[0,1],marker='.')\n",
    "\n",
    "plt.title(\"Path followed by the Robot\")\n",
    "plt.xlabel(\"X\")\n",
    "plt.ylabel(\"Y\")\n",
    "plt.grid()\n",
    "plt.show(fig3)"
   ]
  }
 ],
 "metadata": {
  "kernelspec": {
   "display_name": "Python 3.10.5 64-bit",
   "language": "python",
   "name": "python3"
  },
  "language_info": {
   "codemirror_mode": {
    "name": "ipython",
    "version": 3
   },
   "file_extension": ".py",
   "mimetype": "text/x-python",
   "name": "python",
   "nbconvert_exporter": "python",
   "pygments_lexer": "ipython3",
   "version": "3.10.5"
  },
  "orig_nbformat": 4,
  "vscode": {
   "interpreter": {
    "hash": "cd38ec3fb9f73ca4d5b65b9dd34268daf95e0f7b10c764d9398468d2a8513438"
   }
  }
 },
 "nbformat": 4,
 "nbformat_minor": 2
}
