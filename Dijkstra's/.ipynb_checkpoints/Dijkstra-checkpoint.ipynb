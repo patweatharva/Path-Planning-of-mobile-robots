{
 "cells": [
  {
   "cell_type": "code",
   "execution_count": 56,
   "id": "9934ac59",
   "metadata": {},
   "outputs": [],
   "source": [
    "import matplotlib.pyplot as plt\n",
    "import numpy as np"
   ]
  },
  {
   "cell_type": "code",
   "execution_count": 57,
   "id": "c40bd23a",
   "metadata": {},
   "outputs": [],
   "source": [
    "def orthogonal(upper,cmap):\n",
    "    orthogonal_step_cost=1\n",
    "    condition=False\n",
    "    if ((upper[0,0]>=0) & (upper[1,0]>=0) & (upper[0,0] <=(cmap.shape[0])) & (upper[1,0] <= (cmap.shape[1]))):\n",
    "        if cmap[upper[0,0],upper[1,0]]!=1:\n",
    "            condition=True\n",
    "            return(condition,[upper,orthogonal_step_cost])\n",
    "        else:\n",
    "            return(condition,[upper,orthogonal_step_cost])\n",
    "    else:\n",
    "        return(condition,[upper,orthogonal_step_cost])"
   ]
  },
  {
   "cell_type": "code",
   "execution_count": 58,
   "id": "776be2e6",
   "metadata": {},
   "outputs": [],
   "source": [
    "def diagonal(upper,cmap):\n",
    "    diagonal_step_cost=1.414\n",
    "    condition=False\n",
    "    if ((upper[0,0]>=0) & (upper[1,0]>=0) & (upper[0,0] <=(cmap.shape[0])) & (upper[1,0] <= (cmap.shape[1]))):\n",
    "        if cmap[upper[0,0],upper[1,0]]!=1:\n",
    "            condition=True\n",
    "            return(condition,[upper,diagonal_step_cost])\n",
    "        else:\n",
    "            return(condition,[upper,diagonal_step_cost])\n",
    "    else:\n",
    "        return(condition,[upper,diagonal_step_cost])"
   ]
  },
  {
   "cell_type": "code",
   "execution_count": 59,
   "id": "4a66c9af",
   "metadata": {},
   "outputs": [],
   "source": [
    "def ValidNeighbours(node,cmap):\n",
    "    neighbours=[]\n",
    "    diagonal_step_cost=1.414\n",
    "    orthogonal_step_cost=1\n",
    "    \n",
    "    \n",
    "    upper=np.array([node[0,0]-1,node[1,0]]).reshape(2,1)\n",
    "    upper_left=np.array([node[0,0]-1,node[1,0]-1]).reshape(2,1)\n",
    "    upper_right=np.array([node[0,0]-1,node[1,0]+1]).reshape(2,1)\n",
    "    left=np.array([node[0,0],node[1,0]-1]).reshape(2,1)\n",
    "    right=np.array([node[0,0],node[1,0]+1]).reshape(2,1)\n",
    "    lower=np.array([node[0,0]+1,node[1,0]]).reshape(2,1)\n",
    "    lower_left=np.array([node[0,0]+1,node[1,0]-1]).reshape(2,1)\n",
    "    lower_right=np.array([node[0,0]+1,node[1,0]+1]).reshape(2,1)\n",
    "    \n",
    "    nodes=[upper,left,right,lower]\n",
    "    nodes_diagonal=[upper_left,upper_right,lower_left,lower_right]\n",
    "    \n",
    "    for node in nodes:\n",
    "        condition,x = orthogonal(node,cmap)\n",
    "        if condition==True:\n",
    "            neighbours.append(x)\n",
    "        else:\n",
    "            continue\n",
    "            \n",
    "    for node in nodes_diagonal:\n",
    "        condition,x=diagonal(node,cmap)\n",
    "        if condition==True:\n",
    "            neighbours.append(x)\n",
    "        else:\n",
    "            continue\n",
    "            \n",
    "            \n",
    "    return(neighbours)\n",
    "    "
   ]
  },
  {
   "cell_type": "code",
   "execution_count": 60,
   "id": "a887323f",
   "metadata": {},
   "outputs": [
    {
     "data": {
      "image/png": "[encoded data removed]",
      "text/plain": [
       "<Figure size 864x864 with 1 Axes>"
      ]
     },
     "metadata": {
      "needs_background": "light"
     },
     "output_type": "display_data"
    }
   ],
   "source": [
    "grid = np.array([\n",
    "\n",
    "    [0, 0, 0, 0, 0, 0, 1, 1, 1, 0, 0, 0, 0, 0, 0, 0, 0, 0, 0, 0],\n",
    "\n",
    "    [0, 0, 0, 0, 0, 0, 1, 1, 1, 0, 0, 0, 0, 0, 0, 0, 0, 0, 0, 0],\n",
    "\n",
    "    [0, 0, 0, 0, 0, 0, 1, 0, 1, 0, 0, 0, 0, 0, 0, 0, 0, 0, 0, 0],\n",
    "\n",
    "    [0, 0, 0, 0, 0, 0, 0, 0, 1, 0, 0, 0, 0, 0, 0, 0, 0, 0, 0, 0],\n",
    "\n",
    "    [0, 0, 0, 0, 0, 0, 0, 0, 1, 0, 0, 0, 0, 0, 0, 0, 0, 0, 0, 0],\n",
    "\n",
    "    [0, 0, 0, 1, 1, 1, 0, 0, 1, 0, 0, 0, 0, 0, 0, 0, 0, 0, 0, 0],\n",
    "\n",
    "    [0, 0, 0, 0, 0, 0, 0, 0, 1, 0, 0, 0, 0, 1, 1, 1, 1, 1, 0, 1],\n",
    "\n",
    "    [0, 0, 0, 0, 0, 0, 0, 0, 1, 0, 0, 0, 0, 1, 1, 1, 0, 0, 0, 0],\n",
    "\n",
    "    [0, 0, 0, 0, 0, 0, 0, 0, 1, 0, 0, 0, 0, 1, 1, 1, 0, 0, 0, 0],\n",
    "\n",
    "    [0, 0, 0, 0, 0, 0, 0, 0, 1, 1, 1, 1, 1, 1, 0, 0, 0, 0, 0, 0],\n",
    "\n",
    "    [0, 0, 0, 0, 0, 0, 0, 0, 1, 0, 0, 0, 0, 0, 0, 0, 0, 0, 0, 0],\n",
    "\n",
    "    [1, 1, 1, 1, 1, 0, 0, 0, 1, 0, 0, 0, 0, 0, 0, 0, 1, 1, 1, 1],\n",
    "\n",
    "    [0, 0, 0, 0, 0, 0, 0, 0, 1, 0, 0, 1, 1, 1, 1, 1, 1, 1, 1, 0],\n",
    "\n",
    "    [0, 0, 0, 0, 0, 0, 0, 0, 1, 0, 0, 0, 0, 0, 0, 0, 0, 0, 0, 0],\n",
    "\n",
    "    [0, 0, 0, 0, 0, 0, 0, 0, 1, 1, 1, 1, 1, 1, 0, 1, 1, 1, 0, 0],\n",
    "\n",
    "    [0, 0, 1, 1, 1, 1, 1, 1, 1, 0, 0, 0, 0, 1, 0, 0, 0, 0, 0, 0],\n",
    "\n",
    "    [0, 0, 1, 0, 0, 0, 0, 0, 0, 0, 0, 0, 0, 1, 0, 0, 0, 0, 0, 0],\n",
    "\n",
    "    [0, 0, 1, 0, 0, 0, 0, 0, 0, 0, 0, 0, 0, 0, 0, 0, 0, 0, 0, 0],\n",
    "\n",
    "    [0, 0, 0, 0, 0, 0, 0, 0, 0, 0, 0, 0, 0, 1, 0, 0, 0, 0, 0, 0],\n",
    "\n",
    "    [0, 0, 0, 0, 0, 0, 0, 0, 0, 0, 0, 0, 0, 0, 0, 0, 0, 0, 0, 0]])\n",
    "\n",
    "start = np.array([0,0]).reshape(2,1)\n",
    "goal = np.array([0,19]).reshape(2,1)\n",
    "fig, ax = plt.subplots(figsize=(12,12))\n",
    "ax.imshow(grid, cmap=plt.cm.Dark2)\n",
    "ax.scatter(start[1],start[0], marker = \".\", color = \"yellow\", s = 200)\n",
    "ax.scatter(goal[1],goal[0], marker = \".\", color = \"red\", s = 200)\n",
    "plt.show()\n"
   ]
  },
  {
   "cell_type": "code",
   "execution_count": 113,
   "id": "5bdc5f0c",
   "metadata": {},
   "outputs": [],
   "source": [
    "def dijkstra(start,goal,cmap):\n",
    "    open_list=[]\n",
    "    closed_list=[]\n",
    "    g_cost_dict=dict()\n",
    "    parents=dict()\n",
    "    shortest_path=[]\n",
    "    g_cost_dict[str(start)]=0\n",
    "    open_list.append([start,g_cost_dict[str(start)]])\n",
    "    path_found=False\n",
    "    \n",
    "    \n",
    "    while open_list:\n",
    "        \n",
    "        open_list.sort(key= lambda x : x[1])\n",
    "        \n",
    "        current_node= open_list.pop(0)[0]\n",
    "        print(current_node)\n",
    "        print(goal)\n",
    "        if (current_node == goal).all():\n",
    "            path_found=True\n",
    "            break\n",
    "            \n",
    "        closed_list.append(current_node)\n",
    "\n",
    "        neighbours=ValidNeighbours(current_node,cmap)\n",
    "        \n",
    "        for neighbour,step_cost in neighbours:\n",
    "            \n",
    "            for element in closed_list:\n",
    "                if (element[0] == neighbour).all():\n",
    "                    continue\n",
    "                    \n",
    "            g_cost=g_cost_dict[str(current_node)]+step_cost\n",
    "\n",
    "            in_open_list = False\n",
    "            \n",
    "            for idx, element in enumerate(open_list):\n",
    "                if (element[0] == neighbour).all():\n",
    "                    in_open_list = True\n",
    "                    break\n",
    "                    \n",
    "            if in_open_list==True:\n",
    "                if g_cost < g_cost_dict[str(neighbour)]:\n",
    "                    g_cost_dict[str(neighbour)]=g_cost\n",
    "                    parent[str(neigbhour)]= current_node\n",
    "                    open_list[idx][1]==g_cost\n",
    "                else:\n",
    "                    g_cost_dict[str(neighbour)]=g_cost\n",
    "                    parent[str(neighbour)]=current_node\n",
    "                    open_list.append([neighbour,g_cost])\n",
    "\n",
    "    if path_found==False:\n",
    "        print(\"NO PATH FOUND\")\n",
    "\n",
    "    if path_found==True:\n",
    "        node=goal\n",
    "        shortest_path.append(goal)\n",
    "        while node!=start:\n",
    "            shortest_path.append(node)\n",
    "            node= parent[str(node)]\n",
    "    \n",
    "    shortest_path=shortest_path[::-1]\n",
    "            \n",
    "            \n",
    "    return(shortest_path)"
   ]
  },
  {
   "cell_type": "code",
   "execution_count": 114,
   "id": "70518de8",
   "metadata": {},
   "outputs": [
    {
     "name": "stdout",
     "output_type": "stream",
     "text": [
      "[[0]\n",
      " [0]]\n",
      "[[ 0]\n",
      " [19]]\n",
      "NO PATH FOUND\n",
      "[]\n"
     ]
    }
   ],
   "source": [
    "print(dijkstra(start,goal,grid))"
   ]
  },
  {
   "cell_type": "code",
   "execution_count": 119,
   "id": "0441615b",
   "metadata": {},
   "outputs": [
    {
     "name": "stdout",
     "output_type": "stream",
     "text": [
      "heelo\n",
      "False\n"
     ]
    }
   ],
   "source": [
    "a=[[3,4],[2,1],[4,2],[2,1]]\n",
    "b=[2,1]\n",
    "if b in a:\n",
    "    print(\"heelo\")\n",
    "    \n",
    "g=(start == goal).all()\n",
    "print(g)"
   ]
  }
 ],
 "metadata": {
  "kernelspec": {
   "display_name": "Python 3 (ipykernel)",
   "language": "python",
   "name": "python3"
  },
  "language_info": {
   "codemirror_mode": {
    "name": "ipython",
    "version": 3
   },
   "file_extension": ".py",
   "mimetype": "text/x-python",
   "name": "python",
   "nbconvert_exporter": "python",
   "pygments_lexer": "ipython3",
   "version": "3.10.4"
  }
 },
 "nbformat": 4,
 "nbformat_minor": 5
}
