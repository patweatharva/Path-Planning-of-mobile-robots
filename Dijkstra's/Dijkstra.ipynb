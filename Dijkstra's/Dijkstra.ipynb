{
 "cells": [
  {
   "cell_type": "code",
   "execution_count": 1,
   "id": "9934ac59",
   "metadata": {},
   "outputs": [],
   "source": [
    "import matplotlib.pyplot as plt\n",
    "import numpy as np\n",
    "import heapq"
   ]
  },
  {
   "cell_type": "code",
   "execution_count": 2,
   "id": "c40bd23a",
   "metadata": {},
   "outputs": [],
   "source": [
    "def orthogonal(upper,cmap):\n",
    "    orthogonal_step_cost=1\n",
    "    condition=False\n",
    "    if ((upper[0,0]>=0) & (upper[1,0]>=0) & (upper[0,0] <=(cmap.shape[0]-1)) & (upper[1,0] <= (cmap.shape[1]-1))):\n",
    "        if cmap[upper[0,0],upper[1,0]]!=1:\n",
    "            condition=True\n",
    "            return(condition,[upper,orthogonal_step_cost])\n",
    "        else:\n",
    "            return(condition,[upper,orthogonal_step_cost])\n",
    "    else:\n",
    "        return(condition,[upper,orthogonal_step_cost])"
   ]
  },
  {
   "cell_type": "code",
   "execution_count": 3,
   "id": "776be2e6",
   "metadata": {},
   "outputs": [],
   "source": [
    "def diagonal(upper,cmap):\n",
    "    diagonal_step_cost=1.414\n",
    "    condition=False\n",
    "    if ((upper[0,0]>=0) & (upper[1,0]>=0) & (upper[0,0] <=(cmap.shape[0]-1)) & (upper[1,0] <= (cmap.shape[1]-1))):\n",
    "        if cmap[upper[0,0],upper[1,0]]!=1:\n",
    "            condition=True\n",
    "            return(condition,[upper,diagonal_step_cost])\n",
    "        else:\n",
    "            return(condition,[upper,diagonal_step_cost])\n",
    "    else:\n",
    "        return(condition,[upper,diagonal_step_cost])"
   ]
  },
  {
   "cell_type": "code",
   "execution_count": 4,
   "id": "4a66c9af",
   "metadata": {},
   "outputs": [],
   "source": [
    "def ValidNeighbours(node,cmap):\n",
    "    neighbours=[]\n",
    "    diagonal_step_cost=1.414\n",
    "    orthogonal_step_cost=1\n",
    "    \n",
    "    \n",
    "    upper=np.array([node[0,0]-1,node[1,0]]).reshape(2,1)\n",
    "    upper_left=np.array([node[0,0]-1,node[1,0]-1]).reshape(2,1)\n",
    "    upper_right=np.array([node[0,0]-1,node[1,0]+1]).reshape(2,1)\n",
    "    left=np.array([node[0,0],node[1,0]-1]).reshape(2,1)\n",
    "    right=np.array([node[0,0],node[1,0]+1]).reshape(2,1)\n",
    "    lower=np.array([node[0,0]+1,node[1,0]]).reshape(2,1)\n",
    "    lower_left=np.array([node[0,0]+1,node[1,0]-1]).reshape(2,1)\n",
    "    lower_right=np.array([node[0,0]+1,node[1,0]+1]).reshape(2,1)\n",
    "    \n",
    "    nodes=[upper,left,right,lower]\n",
    "    nodes_diagonal=[upper_left,upper_right,lower_left,lower_right]\n",
    "    \n",
    "    for node in nodes:\n",
    "        condition,x = orthogonal(node,cmap)\n",
    "        if condition==True:\n",
    "            neighbours.append(x)\n",
    "        else:\n",
    "            continue\n",
    "            \n",
    "    for node in nodes_diagonal:\n",
    "        condition,x=diagonal(node,cmap)\n",
    "        if condition==True:\n",
    "            neighbours.append(x)\n",
    "        else:\n",
    "            continue\n",
    "            \n",
    "            \n",
    "    return(neighbours)\n",
    "    "
   ]
  },
  {
   "cell_type": "code",
   "execution_count": 5,
   "id": "a887323f",
   "metadata": {},
   "outputs": [],
   "source": [
    "grid = np.array([\n",
    "\n",
    "    [0, 0, 0, 0, 0, 0, 1, 1, 1, 0, 0, 0, 0, 0, 0, 0, 0, 0, 0, 0],\n",
    "\n",
    "    [0, 0, 0, 0, 0, 0, 1, 1, 1, 0, 0, 0, 0, 0, 0, 0, 0, 0, 0, 0],\n",
    "\n",
    "    [0, 0, 0, 0, 0, 0, 1, 0, 1, 0, 0, 0, 0, 0, 0, 0, 0, 0, 0, 0],\n",
    "\n",
    "    [0, 0, 0, 0, 0, 0, 0, 0, 1, 0, 0, 0, 0, 0, 0, 0, 0, 0, 0, 0],\n",
    "\n",
    "    [0, 0, 0, 0, 0, 0, 0, 0, 1, 0, 0, 0, 0, 0, 0, 0, 0, 0, 0, 0],\n",
    "\n",
    "    [0, 0, 0, 1, 1, 1, 0, 0, 1, 0, 0, 0, 0, 0, 0, 0, 0, 0, 0, 0],\n",
    "\n",
    "    [0, 0, 0, 0, 0, 0, 0, 0, 1, 0, 0, 0, 0, 1, 1, 1, 1, 1, 0, 1],\n",
    "\n",
    "    [0, 0, 0, 0, 0, 0, 0, 0, 1, 0, 0, 0, 0, 1, 1, 1, 0, 0, 0, 0],\n",
    "\n",
    "    [0, 0, 0, 0, 0, 0, 0, 0, 1, 0, 0, 0, 0, 1, 1, 1, 0, 0, 0, 0],\n",
    "\n",
    "    [0, 0, 0, 0, 0, 0, 0, 0, 1, 1, 1, 1, 1, 1, 0, 0, 0, 0, 0, 0],\n",
    "\n",
    "    [0, 0, 0, 0, 0, 0, 0, 0, 1, 0, 0, 0, 0, 0, 0, 0, 0, 0, 0, 0],\n",
    "\n",
    "    [1, 1, 1, 1, 1, 0, 0, 0, 1, 0, 0, 0, 0, 0, 0, 0, 1, 1, 1, 1],\n",
    "\n",
    "    [0, 0, 0, 0, 0, 0, 0, 0, 1, 0, 0, 1, 1, 1, 1, 1, 1, 1, 1, 0],\n",
    "\n",
    "    [0, 0, 0, 0, 0, 0, 0, 0, 1, 0, 0, 0, 0, 0, 0, 0, 0, 0, 0, 0],\n",
    "\n",
    "    [0, 0, 0, 0, 0, 0, 0, 0, 1, 1, 1, 1, 1, 1, 0, 1, 1, 1, 0, 0],\n",
    "\n",
    "    [0, 0, 1, 1, 1, 1, 1, 1, 1, 0, 0, 0, 0, 1, 0, 0, 0, 0, 0, 0],\n",
    "\n",
    "    [0, 0, 1, 0, 0, 0, 0, 0, 0, 0, 0, 0, 0, 1, 0, 0, 0, 0, 0, 0],\n",
    "\n",
    "    [0, 0, 1, 0, 0, 0, 0, 0, 0, 0, 0, 0, 0, 0, 0, 0, 0, 0, 0, 0],\n",
    "\n",
    "    [0, 0, 0, 0, 0, 0, 0, 0, 0, 0, 0, 0, 0, 1, 0, 0, 0, 0, 0, 0],\n",
    "\n",
    "    [0, 0, 0, 0, 0, 0, 0, 0, 0, 0, 0, 0, 0, 0, 0, 0, 0, 0, 0, 0]])\n",
    "\n",
    "start = np.array([0,0]).reshape(2,1)\n",
    "goal = np.array([0,19]).reshape(2,1)\n"
   ]
  },
  {
   "cell_type": "code",
   "execution_count": 6,
   "id": "5bdc5f0c",
   "metadata": {},
   "outputs": [],
   "source": [
    "def dijkstra(start,goal,cmap):\n",
    "    open_list=[]\n",
    "    closed_list=[]\n",
    "    g_cost_dict=dict()\n",
    "    parents=dict()\n",
    "    shortest_path=[]\n",
    "    g_cost_dict[str(start)]=0\n",
    "    open_list.append([start,g_cost_dict[str(start)]])\n",
    "    path_found=False\n",
    "    \n",
    "    \n",
    "    while open_list:\n",
    "        \n",
    "        open_list.sort(key= lambda x : x[1])\n",
    "        \n",
    "        current_node= open_list.pop(0)[0]\n",
    "        \n",
    "        if (current_node == goal).all():\n",
    "            print(\"PATH FOUND\")\n",
    "            path_found=True\n",
    "            break\n",
    "            \n",
    "        closed_list.append(current_node)\n",
    " \n",
    "        \n",
    "        neighbours=ValidNeighbours(current_node,cmap)\n",
    "\n",
    "        for neighbour,step_cost in neighbours:\n",
    "            \n",
    "            if (neighbour == np.array(closed_list)).all():\n",
    "                continue\n",
    "                    \n",
    "            g_cost=g_cost_dict[str(current_node)]+step_cost\n",
    "            \n",
    "\n",
    "            in_open_list = False\n",
    "            \n",
    "            for idx, element in enumerate(open_list):\n",
    "                if (element[0] == neighbour).all():\n",
    "                    in_open_list = True\n",
    "                    break\n",
    "                    \n",
    "            if in_open_list==True:\n",
    "                if g_cost < g_cost_dict[str(neighbour)]:\n",
    "                    g_cost_dict[str(neighbour)]=g_cost\n",
    "                    parents[str(neighbour)]= current_node\n",
    "                    open_list[idx][1]==g_cost\n",
    "\n",
    "                    \n",
    "            else:\n",
    "                g_cost_dict[str(neighbour)]=g_cost\n",
    "                parents[str(neighbour)]=current_node\n",
    "                open_list.append([neighbour,g_cost])\n",
    "\n",
    "    if path_found==False:\n",
    "        print(\"NO PATH FOUND\")\n",
    "\n",
    "    if path_found==True:\n",
    "        node=goal\n",
    "        shortest_path.append(node)\n",
    "        node=parents[str(node)]\n",
    "        while (node!=start).all():\n",
    "            shortest_path.append(node)\n",
    "            node= parents[str(node)]\n",
    "\n",
    "    shortest_path=shortest_path[::-1]\n",
    "    return(shortest_path,parents)"
   ]
  },
  {
   "cell_type": "code",
   "execution_count": 7,
   "id": "70518de8",
   "metadata": {
    "scrolled": false
   },
   "outputs": [
    {
     "name": "stdout",
     "output_type": "stream",
     "text": [
      "PATH FOUND\n"
     ]
    }
   ],
   "source": [
    "shortest_path,parents= dijkstra(start,goal,grid)"
   ]
  },
  {
   "cell_type": "code",
   "execution_count": 10,
   "id": "e83da12a",
   "metadata": {
    "scrolled": false
   },
   "outputs": [
    {
     "data": {
      "image/png": "[encoded data removed]",
      "text/plain": [
       "<Figure size 864x864 with 1 Axes>"
      ]
     },
     "metadata": {
      "needs_background": "light"
     },
     "output_type": "display_data"
    }
   ],
   "source": [
    "fig, ax = plt.subplots(figsize=(12,12))\n",
    "ax.imshow(grid, cmap=plt.cm.Dark2)\n",
    "ax.scatter(start[1],start[0], marker = \".\", color = \"yellow\", s = 200)\n",
    "ax.scatter(goal[1],goal[0], marker = \".\", color = \"red\", s = 200)\n",
    "\n",
    "y_cords=[]\n",
    "x_cords=[]\n",
    "for element in shortest_path:\n",
    "    y_cords.append(element[1][0])\n",
    "    x_cords.append(element[0][0])\n",
    "\n",
    "\n",
    "ax.plot(y_cords,x_cords, color = \"black\")\n",
    "plt.show()"
   ]
  },
  {
   "cell_type": "code",
   "execution_count": 9,
   "id": "4f62167b",
   "metadata": {},
   "outputs": [
    {
     "name": "stdout",
     "output_type": "stream",
     "text": [
      "[[3, (4, 3)], [6, (5, 3)]]\n",
      "[[6, (5, 3)]]\n",
      "(4, 3)\n",
      "[[3, (4, 1)]]\n"
     ]
    }
   ],
   "source": [
    "open_heap=[]\n",
    "node1=(4,3)\n",
    "node2=(5,3)\n",
    "node1_g_cost=3\n",
    "node2_g_cost=6\n",
    "heapq.heappush(open_heap,[node1_g_cost,node1])\n",
    "heapq.heappush(open_heap,[node2_g_cost,node2])\n",
    "\n",
    "print(open_heap)\n",
    "\n",
    "node= heapq.heappop(open_heap)[1]\n",
    "print(open_heap)\n",
    "print(node)\n",
    "\n",
    "open_heap[0]=[3,(4,1)]\n",
    "print(open_heap)"
   ]
  }
 ],
 "metadata": {
  "kernelspec": {
   "display_name": "Python 3 (ipykernel)",
   "language": "python",
   "name": "python3"
  },
  "language_info": {
   "codemirror_mode": {
    "name": "ipython",
    "version": 3
   },
   "file_extension": ".py",
   "mimetype": "text/x-python",
   "name": "python",
   "nbconvert_exporter": "python",
   "pygments_lexer": "ipython3",
   "version": "3.10.4"
  },
  "vscode": {
   "interpreter": {
    "hash": "916dbcbb3f70747c44a77c7bcd40155683ae19c65e1c03b4aa3499c5328201f1"
   }
  }
 },
 "nbformat": 4,
 "nbformat_minor": 5
}
